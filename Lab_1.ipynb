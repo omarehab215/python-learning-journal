{
  "nbformat": 4,
  "nbformat_minor": 0,
  "metadata": {
    "colab": {
      "provenance": []
    },
    "kernelspec": {
      "name": "python3",
      "display_name": "Python 3"
    },
    "language_info": {
      "name": "python"
    }
  },
  "cells": [
    {
      "cell_type": "code",
      "execution_count": 2,
      "metadata": {
        "colab": {
          "base_uri": "https://localhost:8080/"
        },
        "id": "jHB19A0_91xL",
        "outputId": "f8800aad-4fc4-4626-9b5d-e5d1ef52deee"
      },
      "outputs": [
        {
          "output_type": "stream",
          "name": "stdout",
          "text": [
            "10 kilometers equals 6.213699999999999 miles\n"
          ]
        }
      ],
      "source": [
        "#Kilometer Mile conversion\n",
        "\n",
        "\n",
        "kilometers = 10\n",
        "\n",
        "print(kilometers,\"kilometers equals\",kilometers*0.62137,\"miles\" )"
      ]
    },
    {
      "cell_type": "code",
      "source": [
        "#Celsius to Fahrenheit conversion\n",
        "\n",
        "celsius = 30\n",
        "\n",
        "print(\"Celsius equals\",celsius*9/5+32,\"degrees Fahrenheit\")"
      ],
      "metadata": {
        "colab": {
          "base_uri": "https://localhost:8080/"
        },
        "id": "Q5SxIRsZ--v3",
        "outputId": "f6f41b68-5b29-4e21-8f26-a23dbcc31674"
      },
      "execution_count": 9,
      "outputs": [
        {
          "output_type": "stream",
          "name": "stdout",
          "text": [
            "Celsius equals 86.0 degrees Fahrenheit\n"
          ]
        }
      ]
    },
    {
      "cell_type": "code",
      "source": [
        "#Binary to Decimal converter\n",
        "\n",
        "101101000\n",
        "\n",
        "print(0*2+0*4+0*8+1*16+0*32+1*64+1*128+0*256+1*512)\n"
      ],
      "metadata": {
        "colab": {
          "base_uri": "https://localhost:8080/"
        },
        "id": "ohLoyzo7ACg1",
        "outputId": "324303e4-7eb2-4a63-ec0f-f4e90e9bbbc8"
      },
      "execution_count": 8,
      "outputs": [
        {
          "output_type": "stream",
          "name": "stdout",
          "text": [
            "720\n"
          ]
        }
      ]
    }
  ]
}